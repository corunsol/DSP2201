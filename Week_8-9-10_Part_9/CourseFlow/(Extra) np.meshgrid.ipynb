{
 "cells": [
  {
   "cell_type": "markdown",
   "metadata": {},
   "source": [
    "# Numpy Meshgrid function - Showcase\n",
    "\n",
    "Source: https://www.javatpoint.com/numpy-meshgrid"
   ]
  },
  {
   "cell_type": "markdown",
   "metadata": {},
   "source": [
    "### numpy.meshgrid() in Python \n",
    "\n",
    "The numpy module of Python provides __meshgrid()__ function for creating a rectangular grid with the help of the given 1-D arrays that represent the __Matrix indexing__ or __Cartesian indexing__. MATLAB somewhat inspires the meshgrid() function. From the coordinate vectors, the meshgrid() function returns the coordinate matrices.\n",
    "\n",
    "![image.png](attachment:image.png)\n",
    "\n",
    "In the above figure, the x-axis is ranging from -5 to 5, and the y-axis is ranging from -5 to 5. So, there is a total of 121 points marked in the figure, each with x-coordinate and y-coordinate. For any line parallel to the x-axis, the x-coordinates of the marked points are -5, -4, -3, -2, -1, 0, 1, 2, 3, 4, and 5 respectively. On the other hand, for any line parallel to the y-axis, the y-coordinates of the marked points from bottom to top are -5, -4, -3, -2, -1, 0, 1, 2, 3, 4, and 5 respectively.\n",
    "\n",
    "### Syntax\n",
    "\n",
    "``` numpy.meshgrid(*xi, **kwargs) ```\n",
    "\n",
    "### Parameters\n",
    "\n",
    "__x1, x2,…, xn : array_like__\n",
    "\n",
    "This parameter defines the 1-dimensional array, which represents the coordinates of a grid.\n",
    "\n",
    "__indexing: {'xy', 'ij'}(optional)__\n",
    "\n",
    "This is an optional argument which defines the Cartesian 'xy'(by default) or matrix ('ij') indexing of output.\n",
    "\n",
    "__sparse: bool(optional)__\n",
    "\n",
    "This parameter is also optional. If we need a sparse grid for conserving memory, we have to set this parameter to True. By default, it is set to False.\n",
    "\n",
    "__copy: bool(optional)__\n",
    "\n",
    "The aim of this optional argument is that it returns a copy of the original array for conserving memory. By default, it is set to False.\n",
    "\n",
    "If both __sparse__ and __copy__ parameters are set to False, then it will return non-contiguous arrays. In addition, more than one element of a broadcast array can refer to a single memory location. If we need to write into the arrays, then we have to make copies first.\n",
    "\n",
    "### Returns\n",
    "\n",
    "__X1, X2, …, Xn__\n",
    "\n",
    "The coordinate length from the coordinate vector is returned from this function.\n",
    "\n",
    "### Example 1:"
   ]
  },
  {
   "cell_type": "code",
   "execution_count": 1,
   "metadata": {},
   "outputs": [
    {
     "data": {
      "text/plain": [
       "array([[1.  , 1.25, 1.5 , 1.75, 2.  ],\n       [1.  , 1.25, 1.5 , 1.75, 2.  ],\n       [1.  , 1.25, 1.5 , 1.75, 2.  ]])"
      ]
     },
     "execution_count": 1,
     "metadata": {},
     "output_type": "execute_result"
    }
   ],
   "source": [
    "import numpy as np  \n",
    "na, nb = (5, 3)  \n",
    "a = np.linspace(1, 2, na)  \n",
    "b = np.linspace(1, 2, nb)  \n",
    "xa, xb = np.meshgrid(a, b)  \n",
    "xa"
   ]
  },
  {
   "cell_type": "code",
   "execution_count": 2,
   "metadata": {},
   "outputs": [
    {
     "data": {
      "text/plain": [
       "array([[1. , 1. , 1. , 1. , 1. ],\n       [1.5, 1.5, 1.5, 1.5, 1.5],\n       [2. , 2. , 2. , 2. , 2. ]])"
      ]
     },
     "execution_count": 2,
     "metadata": {},
     "output_type": "execute_result"
    }
   ],
   "source": [
    "xb"
   ]
  },
  {
   "cell_type": "markdown",
   "metadata": {},
   "source": [
    "__In the above code__\n",
    "\n",
    "* We have imported numpy with alias name np.\n",
    "* We have created two variables, i.e., na and nb, and assigned the values 5 and 3, respectively.\n",
    "* We have created two arrays, i.e., a and b using linspace() function.\n",
    "* After that, we have declared the variables 'xa' and 'xb' and assigned the returned value of meshgrid()\n",
    "* We have passed both the arrays 'a' and 'b' in the function\n",
    "* Lastly, we tried to print the value of 'xa' and 'xb'.\n",
    "\n",
    "In the output, two arrays have been shown which contain the coordinate length from the coordinate vectors.\n",
    "\n",
    "### Example 2:"
   ]
  },
  {
   "cell_type": "code",
   "execution_count": 3,
   "metadata": {},
   "outputs": [
    {
     "data": {
      "text/plain": [
       "array([[1.  , 1.25, 1.5 , 1.75, 2.  ]])"
      ]
     },
     "execution_count": 3,
     "metadata": {},
     "output_type": "execute_result"
    }
   ],
   "source": [
    "import numpy as np  \n",
    "na, nb = (5, 3)  \n",
    "a = np.linspace(1, 2, na)  \n",
    "b = np.linspace(1, 2, nb)  \n",
    "xa, xb = np.meshgrid(a, b, sparse=True)  \n",
    "xa"
   ]
  },
  {
   "cell_type": "code",
   "execution_count": 4,
   "metadata": {},
   "outputs": [
    {
     "data": {
      "text/plain": [
       "array([[1. ],\n       [1.5],\n       [2. ]])"
      ]
     },
     "execution_count": 4,
     "metadata": {},
     "output_type": "execute_result"
    }
   ],
   "source": [
    "xb"
   ]
  },
  {
   "cell_type": "markdown",
   "metadata": {},
   "source": [
    "### Example 3:"
   ]
  },
  {
   "cell_type": "code",
   "execution_count": 5,
   "metadata": {},
   "outputs": [
    {
     "data": {
      "image/png": "[encoded data removed]",
      "text/plain": [
       "<Figure size 432x288 with 1 Axes>"
      ]
     },
     "metadata": {},
     "output_type": "display_data"
    }
   ],
   "source": [
    "import numpy as np  \n",
    "import matplotlib.pyplot as plt  \n",
    "a = np.arange(-10, 10, 0.1)  \n",
    "b = np.arange(-10, 10, 0.1)  \n",
    "xa, xb = np.meshgrid(a, b, sparse=True)  \n",
    "z = np.sin(xa**2 + xb**2) / (xa**2 + xb**2)  \n",
    "h = plt.contourf(a,b,z)  \n",
    "plt.show()"
   ]
  },
  {
   "cell_type": "markdown",
   "metadata": {},
   "source": [
    "__In the above code__\n",
    "\n",
    "* We have imported numpy with alias name np.\n",
    "* We have imported matplotlib.pyplot as plt.\n",
    "* We have created two arrays, i.e., a and b using np.arange() function.\n",
    "* After that, we have declared the variables 'xa' and 'xb' and assigned the returned value of meshgrid()\n",
    "* We have passed both the arrays 'a' and 'b' in the function.\n",
    "* After that, we have declared a variable z and assigned the return value of np.sine() function.\n",
    "* Lastly, we tried to draw contour lines and filled contours by using the plt.contourf()\n",
    "\n",
    "In the output, contour lines have been plotted.\n",
    "\n",
    "### Example 4:"
   ]
  },
  {
   "cell_type": "code",
   "execution_count": 6,
   "metadata": {},
   "outputs": [
    {
     "data": {
      "image/png": "[encoded data removed]",
      "text/plain": [
       "<Figure size 432x288 with 2 Axes>"
      ]
     },
     "metadata": {},
     "output_type": "display_data"
    }
   ],
   "source": [
    "import numpy as np  \n",
    "import matplotlib.pyplot as plt  \n",
    "a = np.linspace(-5, 5, 5)  \n",
    "b = np.linspace(-5, 5, 11)  \n",
    "random_data = np.random.random((11, 5))  \n",
    "xa, xb = np.meshgrid(a, b)  \n",
    "plt.contourf(xa, xb, random_data, cmap = 'jet')  \n",
    "plt.colorbar()  \n",
    "plt.show()  "
   ]
  },
  {
   "cell_type": "markdown",
   "metadata": {},
   "source": [
    "### Example 5:"
   ]
  },
  {
   "cell_type": "code",
   "execution_count": 7,
   "metadata": {},
   "outputs": [
    {
     "data": {
      "image/png": "[encoded data removed]",
      "text/plain": [
       "<Figure size 432x288 with 2 Axes>"
      ]
     },
     "metadata": {},
     "output_type": "display_data"
    }
   ],
   "source": [
    "import numpy as np  \n",
    "import matplotlib.pyplot as plt  \n",
    "a = np.linspace(0.1, 10, 5)  \n",
    "b = np.linspace(0, 10, 11)  \n",
    "random_data = np.random.random((11, 5))  \n",
    "xa, xb = np.meshgrid(a, b)  \n",
    "sine = (np.sin(xa**2 + xb**2))/(xa**2 + xb**2)  \n",
    "plt.contourf(xa, xb, sine, cmap = 'jet')  \n",
    "plt.colorbar()  \n",
    "plt.show()  "
   ]
  },
  {
   "cell_type": "code",
   "execution_count": 8,
   "metadata": {},
   "outputs": [],
   "source": []
  },
  {
   "cell_type": "code",
   "execution_count": null,
   "metadata": {},
   "outputs": [],
   "source": []
  }
 ],
 "metadata": {
  "kernelspec": {
   "display_name": "Python 3",
   "language": "python",
   "name": "python3"
  },
  "language_info": {
   "codemirror_mode": {
    "name": "ipython",
    "version": 3
   },
   "file_extension": ".py",
   "mimetype": "text/x-python",
   "name": "python",
   "nbconvert_exporter": "python",
   "pygments_lexer": "ipython3",
   "version": "3.8.5"
  }
 },
 "nbformat": 4,
 "nbformat_minor": 4
}
